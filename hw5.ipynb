{
  "nbformat": 4,
  "nbformat_minor": 0,
  "metadata": {
    "colab": {
      "name": "hw5.ipynb",
      "provenance": [],
      "mount_file_id": "1XIt3ArzcIgefWbVmd9gF7LaJVe-8mB14",
      "authorship_tag": "ABX9TyNptXHd3/bo1VmwoLB5E5AG",
      "include_colab_link": true
    },
    "kernelspec": {
      "name": "python3",
      "display_name": "Python 3"
    },
    "language_info": {
      "name": "python"
    }
  },
  "cells": [
    {
      "cell_type": "markdown",
      "metadata": {
        "id": "view-in-github",
        "colab_type": "text"
      },
      "source": [
        "<a href=\"https://colab.research.google.com/github/Vincent23412/python-git-test/blob/main/hw5.ipynb\" target=\"_parent\"><img src=\"https://colab.research.google.com/assets/colab-badge.svg\" alt=\"Open In Colab\"/></a>"
      ]
    },
    {
      "cell_type": "code",
      "source": [
        "import pandas as pd\n",
        "from sklearn.preprocessing import StandardScaler\n",
        "from sklearn.model_selection import train_test_split\n",
        "from sklearn.linear_model import LinearRegression\n",
        "from sklearn.metrics import mean_squared_error"
      ],
      "metadata": {
        "id": "ml3sStmwjkTc"
      },
      "execution_count": 156,
      "outputs": []
    },
    {
      "cell_type": "code",
      "source": [
        "data = pd.read_csv(\"/content/drive/MyDrive/Colab Notebooks/Salary_Data.csv\")"
      ],
      "metadata": {
        "id": "XbJK9A78eue8"
      },
      "execution_count": 121,
      "outputs": []
    },
    {
      "cell_type": "code",
      "source": [
        "scaler = StandardScaler()\n",
        "Data = scaler.fit_transform(data)"
      ],
      "metadata": {
        "id": "xTomRemZZiTB"
      },
      "execution_count": 123,
      "outputs": []
    },
    {
      "cell_type": "code",
      "source": [
        "year = Data[:,0]\n",
        "salary = Data[:,1]"
      ],
      "metadata": {
        "id": "szSxAK4_aKTP"
      },
      "execution_count": 124,
      "outputs": []
    },
    {
      "cell_type": "code",
      "source": [
        "year = [[i] for i in year]"
      ],
      "metadata": {
        "id": "Itni3KZyjUot"
      },
      "execution_count": 144,
      "outputs": []
    },
    {
      "cell_type": "code",
      "source": [
        "train_x, test_x, train_y, test_y  = train_test_split(year, salary, test_size=0.2, random_state=10)"
      ],
      "metadata": {
        "id": "Oy5GY22FbKd1"
      },
      "execution_count": 146,
      "outputs": []
    },
    {
      "cell_type": "code",
      "source": [
        "regression = LinearRegression()\n",
        "regression.fit(train_x,train_y)"
      ],
      "metadata": {
        "colab": {
          "base_uri": "https://localhost:8080/"
        },
        "id": "ce_YZT8QayGg",
        "outputId": "3e3e70b7-5744-4831-f97a-cab98e8543b0"
      },
      "execution_count": 148,
      "outputs": [
        {
          "output_type": "execute_result",
          "data": {
            "text/plain": [
              "LinearRegression()"
            ]
          },
          "metadata": {},
          "execution_count": 148
        }
      ]
    },
    {
      "cell_type": "code",
      "source": [
        "pred_y = regression.predict(year)"
      ],
      "metadata": {
        "id": "QH3x2KC1eFpa"
      },
      "execution_count": 149,
      "outputs": []
    },
    {
      "cell_type": "code",
      "source": [
        "plt.scatter(year, salary)\n",
        "plt.plot(year,pred_y)\n",
        "plt.show()"
      ],
      "metadata": {
        "colab": {
          "base_uri": "https://localhost:8080/",
          "height": 265
        },
        "id": "lo3-KAZmeUuY",
        "outputId": "86291fcb-e4fc-4548-d054-348ab5d93e34"
      },
      "execution_count": 150,
      "outputs": [
        {
          "output_type": "display_data",
          "data": {
            "text/plain": [
              "<Figure size 432x288 with 1 Axes>"
            ],
            "image/png": "[encoded data removed]"
          },
          "metadata": {
            "needs_background": "light"
          }
        }
      ]
    },
    {
      "cell_type": "code",
      "source": [
        "data = []\n",
        "for i in range(len(year)) :\n",
        "  data.append([year[i][0],salary[i]])\n",
        "data"
      ],
      "metadata": {
        "colab": {
          "base_uri": "https://localhost:8080/"
        },
        "id": "hwHB2T70mmU4",
        "outputId": "7216e65f-13d0-4324-b344-a75739997658"
      },
      "execution_count": 169,
      "outputs": [
        {
          "output_type": "execute_result",
          "data": {
            "text/plain": [
              "[[-1.5100529354239738, -1.3601126252524929],\n",
              " [-1.4383732074766336, -1.1055274415513852],\n",
              " [-1.366693479529293, -1.419918996008276],\n",
              " [-1.1874941596609416, -1.2049573879691888],\n",
              " [-1.115814431713601, -1.3397814272536286],\n",
              " [-0.8649353838979092, -0.7183071614160805],\n",
              " [-0.8290955199242389, -0.5881578136423287],\n",
              " [-0.7574157919768983, -0.7998174570429144],\n",
              " [-0.7574157919768983, -0.4288101942899158],\n",
              " [-0.578216472108547, -0.6980130641434915],\n",
              " [-0.5065367441612065, -0.4743327854297087],\n",
              " [-0.47069688018753625, -0.7497685772975349],\n",
              " [-0.47069688018753625, -0.7066204326393611],\n",
              " [-0.43485701621386613, -0.7020199425812239],\n",
              " [-0.2914975603191849, -0.5525040156917655],\n",
              " [-0.1481381044245037, -0.29921735741029337],\n",
              " [-0.07645837647716341, -0.3700426438698408],\n",
              " [-0.004778648529822813, 0.2628586456604995],\n",
              " [0.210260535312199, 0.19885989283560723],\n",
              " [0.24610039928586913, 0.6654757272000535],\n",
              " [0.5328193110752313, 0.5837799279418433],\n",
              " [0.640338902996242, 0.8262331741509279],\n",
              " [0.9270578147856043, 0.9386112740388112],\n",
              " [1.034577406706615, 1.4027413597428124],\n",
              " [1.2137767265749662, 1.2402030779307236],\n",
              " [1.3212963184959772, 1.0974023824970944],\n",
              " [1.5004956383643286, 1.519868352593934],\n",
              " [1.5363355023379988, 1.3590738049167843],\n",
              " [1.787214550153691, 1.72102849045861],\n",
              " [1.8588942781010314, 1.7017732135217292]]"
            ]
          },
          "metadata": {},
          "execution_count": 169
        }
      ]
    },
    {
      "cell_type": "code",
      "source": [
        "pred = []\n",
        "for i in range(len(year)) :\n",
        "  pred.append([year[i][0],pred_y[i]])\n",
        "pred"
      ],
      "metadata": {
        "colab": {
          "base_uri": "https://localhost:8080/"
        },
        "id": "kpXOvQwlnqKZ",
        "outputId": "6427983f-4c28-4940-ac43-01801b32f112"
      },
      "execution_count": 172,
      "outputs": [
        {
          "output_type": "execute_result",
          "data": {
            "text/plain": [
              "[[-1.5100529354239738, -1.46998101218181],\n",
              " [-1.4383732074766336, -1.400551729638053],\n",
              " [-1.366693479529293, -1.3311224470942957],\n",
              " [-1.1874941596609416, -1.1575492407349022],\n",
              " [-1.115814431713601, -1.0881199581911447],\n",
              " [-0.8649353838979092, -0.8451174692879944],\n",
              " [-0.8290955199242389, -0.8104028280161156],\n",
              " [-0.7574157919768983, -0.7409735454723583],\n",
              " [-0.7574157919768983, -0.7409735454723583],\n",
              " [-0.578216472108547, -0.5674003391129651],\n",
              " [-0.5065367441612065, -0.4979710565692077],\n",
              " [-0.47069688018753625, -0.4632564152973291],\n",
              " [-0.47069688018753625, -0.4632564152973291],\n",
              " [-0.43485701621386613, -0.4285417740254506],\n",
              " [-0.2914975603191849, -0.28968320893793575],\n",
              " [-0.1481381044245037, -0.15082464385042105],\n",
              " [-0.07645837647716341, -0.08139536130666396],\n",
              " [-0.004778648529822813, -0.011966078762906587],\n",
              " [0.210260535312199, 0.19632176886836553],\n",
              " [0.24610039928586913, 0.23103641014024406],\n",
              " [0.5328193110752313, 0.5087535403152733],\n",
              " [0.640338902996242, 0.6128974641309092],\n",
              " [0.9270578147856043, 0.8906145943059386],\n",
              " [1.034577406706615, 0.9947585181215743],\n",
              " [1.2137767265749662, 1.1683317244809677],\n",
              " [1.3212963184959772, 1.2724756482966038],\n",
              " [1.5004956383643286, 1.446048854655997],\n",
              " [1.5363355023379988, 1.4807634959278757],\n",
              " [1.787214550153691, 1.7237659848310265],\n",
              " [1.8588942781010314, 1.7931952673747837]]"
            ]
          },
          "metadata": {},
          "execution_count": 172
        }
      ]
    },
    {
      "cell_type": "code",
      "source": [
        "data = scaler.inverse_transform(data)\n",
        "pred = scaler.inverse_transform(pred)"
      ],
      "metadata": {
        "id": "0c2wNkf-mXQ8"
      },
      "execution_count": 173,
      "outputs": []
    },
    {
      "cell_type": "code",
      "source": [
        "plt.scatter(data[:,0],data[:,1])\n",
        "plt.plot(pred[:,0],pred[:,1])\n",
        "plt.show()"
      ],
      "metadata": {
        "colab": {
          "base_uri": "https://localhost:8080/",
          "height": 265
        },
        "id": "Uh586l6doBnz",
        "outputId": "e88f8245-8292-48c5-cb47-9331bb46ee92"
      },
      "execution_count": 176,
      "outputs": [
        {
          "output_type": "display_data",
          "data": {
            "text/plain": [
              "<Figure size 432x288 with 1 Axes>"
            ],
            "image/png": "[encoded data removed]"
          },
          "metadata": {
            "needs_background": "light"
          }
        }
      ]
    }
  ]
}